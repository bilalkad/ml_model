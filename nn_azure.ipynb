{
 "cells": [
  {
   "cell_type": "code",
   "execution_count": 1,
   "id": "76116969-8db1-403e-9d22-5ebd0a9f16d6",
   "metadata": {
    "tags": []
   },
   "outputs": [],
   "source": [
    "from azureml.core import Workspace"
   ]
  },
  {
   "cell_type": "code",
   "execution_count": 9,
   "id": "b6c5bb3d-e58f-4365-ab75-953876553e17",
   "metadata": {
    "tags": []
   },
   "outputs": [],
   "source": [
    "# Create or retrieve an existing Azure ML workspace\n",
    "# ws = Workspace.get(name='ai_ml_course')\n",
    "subscription_id='engbilalk',\n",
    "resource_group='engbilalk-rg',\n",
    "location='eastus2'"
   ]
  },
  {
   "cell_type": "code",
   "execution_count": 26,
   "id": "c2fef3ee-f977-4710-819d-bc8a916214e9",
   "metadata": {
    "tags": []
   },
   "outputs": [],
   "source": [
    "from azureml.core import Workspace, Model\n",
    "\n",
    "# First get the workspace reference\n",
    "ws = Workspace.get(name='ai_ml_course',\n",
    "                   subscription_id='35883f52-75b2-43c5-ac8c-15e13f9761ee',\n",
    "                   resource_group='engbilalk-rg',\n",
    "                  location='eastus2')"
   ]
  },
  {
   "cell_type": "code",
   "execution_count": 11,
   "id": "d125bc0c-de9f-49d9-a382-718e72c2aa27",
   "metadata": {
    "tags": []
   },
   "outputs": [],
   "source": [
    "import torch\n",
    "import torch.nn as nn\n",
    "import torch.optim as optim\n",
    "\n",
    "# Define a simple neural network with one hidden layer\n",
    "class SimpleNN(nn.Module):\n",
    "    def __init__(self):\n",
    "        super(SimpleNN, self).__init__()\n",
    "        self.fc1 = nn.Linear(784, 128) # input layer (784 input features)\n",
    "        self.fc2 = nn.Linear(128, 10)  # Output layer (10 classes)\n",
    "        self.relu = nn.ReLU()          # Activation function\n",
    "        \n",
    "    def forward(self, x):\n",
    "        x = self.relu(self.fc1(x)) # Apply ReLU after the first layer\n",
    "        x = self.fc2(x)            # Output layer\n",
    "        return x"
   ]
  },
  {
   "cell_type": "code",
   "execution_count": 12,
   "id": "2d4b18e8-5988-4526-9b80-0fad830d301f",
   "metadata": {
    "tags": []
   },
   "outputs": [],
   "source": [
    "# Intialize the neural network\n",
    "model = SimpleNN()"
   ]
  },
  {
   "cell_type": "code",
   "execution_count": 13,
   "id": "a27e96e6-9a98-4fd2-9a8c-28a32e97b182",
   "metadata": {
    "tags": []
   },
   "outputs": [],
   "source": [
    "# Define loss function and optimizer\n",
    "criterion = nn.CrossEntropyLoss()  # For classification tasks\n",
    "optimizer = optim.SGD(model.parameters(), lr=0.01)  #Stochastic Descent"
   ]
  },
  {
   "cell_type": "code",
   "execution_count": 14,
   "id": "9727645f-9750-42b8-a12a-1ffeb6e17ed5",
   "metadata": {
    "tags": []
   },
   "outputs": [],
   "source": [
    "from torchvision import datasets, transforms"
   ]
  },
  {
   "cell_type": "code",
   "execution_count": 16,
   "id": "31698a38-2b34-4eaa-ac9d-36a0cfa1abc2",
   "metadata": {
    "tags": []
   },
   "outputs": [],
   "source": [
    "# Load MNIST dataset\n",
    "train_loader = torch.utils.data.DataLoader(\n",
    "    datasets.MNIST(root='data', train=True, download=True,\n",
    "                   transform=transforms.ToTensor()),\n",
    "    batch_size=32, shuffle=True)"
   ]
  },
  {
   "cell_type": "code",
   "execution_count": 17,
   "id": "52d3e8d8-ccc4-4321-ae52-453381c1aa82",
   "metadata": {
    "tags": []
   },
   "outputs": [
    {
     "name": "stdout",
     "output_type": "stream",
     "text": [
      "Epoch 1, Loss: 0.8818728608290355\n",
      "Epoch 2, Loss: 0.37548073340654375\n",
      "Epoch 3, Loss: 0.3219303167919318\n",
      "Epoch 4, Loss: 0.2920507937649886\n",
      "Epoch 5, Loss: 0.26955332116087277\n"
     ]
    }
   ],
   "source": [
    "# Train the model\n",
    "num_epochs = 5\n",
    "for epoch in range(num_epochs):\n",
    "    running_loss = 0.0\n",
    "    for inputs, labels in train_loader:\n",
    "        optimizer.zero_grad() # Reset gradients\n",
    "        \n",
    "        # Forward pass\n",
    "        outputs = model(inputs.view(-1, 784))  # Flatten input\n",
    "        loss = criterion(outputs, labels)      # Compute loss\n",
    "        \n",
    "        # Backward pass and optimization\n",
    "        loss.backward()\n",
    "        optimizer.step()\n",
    "        \n",
    "        running_loss += loss.item()\n",
    "        \n",
    "    print(f\"Epoch {epoch+1}, Loss: {running_loss/len(train_loader)}\")"
   ]
  },
  {
   "cell_type": "code",
   "execution_count": 28,
   "id": "24abc472-58ad-4f6b-a9ec-f189a9b2b60f",
   "metadata": {
    "tags": []
   },
   "outputs": [],
   "source": [
    "from azureml.core import Model\n",
    "\n",
    "# Save the trained model\n",
    "torch.save(model.state_dict(), 'simple_nn.pth')"
   ]
  },
  {
   "cell_type": "code",
   "execution_count": 29,
   "id": "2db8a406-93b7-4e2c-a4a9-35322a3bd1b0",
   "metadata": {
    "tags": []
   },
   "outputs": [
    {
     "name": "stdout",
     "output_type": "stream",
     "text": [
      "Registering model simple_nn\n"
     ]
    }
   ],
   "source": [
    "# Register the model\n",
    "model = Model.register(workspace=ws, \n",
    "                       model_path='simple_nn.pth', \n",
    "                       model_name='simple_nn')"
   ]
  },
  {
   "cell_type": "code",
   "execution_count": null,
   "id": "94cf6d6e-6afd-4232-85fd-e553ec17dca9",
   "metadata": {},
   "outputs": [],
   "source": []
  }
 ],
 "metadata": {
  "kernelspec": {
   "display_name": "Python 3.8 - AzureML",
   "language": "python",
   "name": "python38-azureml"
  },
  "language_info": {
   "codemirror_mode": {
    "name": "ipython",
    "version": 3
   },
   "file_extension": ".py",
   "mimetype": "text/x-python",
   "name": "python",
   "nbconvert_exporter": "python",
   "pygments_lexer": "ipython3",
   "version": "3.10.11"
  }
 },
 "nbformat": 4,
 "nbformat_minor": 5
}
